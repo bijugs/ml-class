{
 "cells": [
  {
   "cell_type": "code",
   "execution_count": 1,
   "metadata": {},
   "outputs": [],
   "source": [
    "import warnings\n",
    "warnings.simplefilter(action='ignore', category=FutureWarning)\n",
    "def train():\n",
    "    import numpy as np\n",
    "    import tensorflow as tf\n",
    "    import wandb\n",
    "    wandb.init()\n",
    "    config_defaults = {\n",
    "        'hidden_nodes': 128\n",
    "    }\n",
    "    wandb.config.update({k: v for k, v in config_defaults.items() if k not in dict(wandb.config.user_items())})\n",
    "\n",
    "    fashion_mnist = tf.keras.datasets.fashion_mnist\n",
    "    (train_images, train_labels), (test_images, test_labels) = fashion_mnist.load_data()\n",
    "    class_names = ['T-shirt/top', 'Trouser', 'Pullover', 'Dress', 'Coat',\n",
    "                   'Sandal', 'Shirt', 'Sneaker', 'Bag', 'Ankle boot']\n",
    "\n",
    "    train_images = train_images / 255.0\n",
    "    test_images = test_images / 255.0\n",
    "\n",
    "    model = tf.keras.Sequential([\n",
    "        tf.keras.layers.Flatten(input_shape=(28, 28)),\n",
    "        tf.keras.layers.Dense(wandb.config.hidden_nodes, activation=tf.nn.relu),\n",
    "        tf.keras.layers.Dense(10, activation=tf.nn.softmax)\n",
    "    ])\n",
    "\n",
    "    model.compile(optimizer='adam',\n",
    "                  loss='sparse_categorical_crossentropy',\n",
    "                  metrics=['accuracy'])\n",
    "    \n",
    "    model.fit(train_images, train_labels, epochs=5, callbacks=[wandb.keras.WandbCallback(input_type=\"images\", save_model=False)],\n",
    "                  validation_data=(test_images, test_labels))"
   ]
  },
  {
   "cell_type": "code",
   "execution_count": 2,
   "metadata": {},
   "outputs": [],
   "source": [
    "sweep_config = {\n",
    "    'method': 'grid',\n",
    "    'parameters': {\n",
    "        'hidden_nodes': {\n",
    "            'values': [32, 64, 96, 128, 256]\n",
    "        }\n",
    "    }\n",
    "}"
   ]
  },
  {
   "cell_type": "code",
   "execution_count": 3,
   "metadata": {},
   "outputs": [
    {
     "name": "stdout",
     "output_type": "stream",
     "text": [
      "Create sweep with ID: qaqzo3q7\n",
      "Sweep URL: https://app.wandb.ai/qualcomm/sweeps-sep26/sweeps/qaqzo3q7\n"
     ]
    }
   ],
   "source": [
    "import wandb\n",
    "sweep_id = wandb.sweep(sweep_config)"
   ]
  },
  {
   "cell_type": "code",
   "execution_count": 4,
   "metadata": {},
   "outputs": [
    {
     "name": "stdout",
     "output_type": "stream",
     "text": [
      "wandb: Agent Starting Run: 3c09yk1n with config:\n",
      "\thidden_nodes: 32\n",
      "wandb: Agent Started Run: 3c09yk1n\n"
     ]
    },
    {
     "data": {
      "text/html": [
       "\n",
       "            Notebook configured with <a href=\"https://wandb.com\" target=\"_blank\">W&B</a>. You can <a href=\"https://app.wandb.ai/qualcomm/sweeps-sep26/runs/3c09yk1n\" target=\"_blank\">open</a> the run page, or call <code>%%wandb</code>\n",
       "            in a cell containing your training loop to display live results.  Learn more in our <a href=\"https://docs.wandb.com/docs/integrations/jupyter.html\" target=\"_blank\">docs</a>.\n",
       "        "
      ],
      "text/plain": [
       "<IPython.core.display.HTML object>"
      ]
     },
     "metadata": {},
     "output_type": "display_data"
    },
    {
     "name": "stderr",
     "output_type": "stream",
     "text": [
      "wandb: Wandb version 0.8.12 is available!  To upgrade, please run:\n",
      "wandb:  $ pip install wandb --upgrade\n"
     ]
    },
    {
     "name": "stdout",
     "output_type": "stream",
     "text": [
      "WARNING:tensorflow:From /Users/vanpelt/.pyenv/versions/3.6.4/envs/wubhub-3.6/lib/python3.6/site-packages/tensorflow/python/ops/resource_variable_ops.py:435: colocate_with (from tensorflow.python.framework.ops) is deprecated and will be removed in a future version.\n",
      "Instructions for updating:\n",
      "Colocations handled automatically by placer.\n",
      "Train on 60000 samples, validate on 10000 samples\n",
      "Epoch 1/5\n",
      "60000/60000 [==============================] - 4s 60us/sample - loss: 0.5514 - acc: 0.8128 - val_loss: 0.4804 - val_acc: 0.8365\n",
      "Epoch 2/5\n",
      "60000/60000 [==============================] - 3s 52us/sample - loss: 0.4229 - acc: 0.8539 - val_loss: 0.4360 - val_acc: 0.8464\n",
      "Epoch 3/5\n",
      "60000/60000 [==============================] - 3s 54us/sample - loss: 0.3890 - acc: 0.8640 - val_loss: 0.4048 - val_acc: 0.8608\n",
      "Epoch 4/5\n",
      "60000/60000 [==============================] - 3s 55us/sample - loss: 0.3675 - acc: 0.8699 - val_loss: 0.4187 - val_acc: 0.8515\n",
      "Epoch 5/5\n",
      "60000/60000 [==============================] - 4s 71us/sample - loss: 0.3530 - acc: 0.8745 - val_loss: 0.4187 - val_acc: 0.8531\n",
      "wandb: Agent Finished Run: 3c09yk1n \n",
      "\n",
      "wandb: Agent Starting Run: fbqtqcjg with config:\n",
      "\thidden_nodes: 64\n",
      "wandb: Agent Started Run: fbqtqcjg\n"
     ]
    },
    {
     "data": {
      "text/html": [
       "\n",
       "            Notebook configured with <a href=\"https://wandb.com\" target=\"_blank\">W&B</a>. You can <a href=\"https://app.wandb.ai/qualcomm/sweeps-sep26/runs/fbqtqcjg\" target=\"_blank\">open</a> the run page, or call <code>%%wandb</code>\n",
       "            in a cell containing your training loop to display live results.  Learn more in our <a href=\"https://docs.wandb.com/docs/integrations/jupyter.html\" target=\"_blank\">docs</a>.\n",
       "        "
      ],
      "text/plain": [
       "<IPython.core.display.HTML object>"
      ]
     },
     "metadata": {},
     "output_type": "display_data"
    },
    {
     "name": "stderr",
     "output_type": "stream",
     "text": [
      "wandb: Wandb version 0.8.12 is available!  To upgrade, please run:\n",
      "wandb:  $ pip install wandb --upgrade\n"
     ]
    },
    {
     "name": "stdout",
     "output_type": "stream",
     "text": [
      "WARNING:tensorflow:From /Users/vanpelt/.pyenv/versions/3.6.4/envs/wubhub-3.6/lib/python3.6/site-packages/tensorflow/python/ops/resource_variable_ops.py:435: colocate_with (from tensorflow.python.framework.ops) is deprecated and will be removed in a future version.\n",
      "Instructions for updating:\n",
      "Colocations handled automatically by placer.\n",
      "Train on 60000 samples, validate on 10000 samples\n",
      "Epoch 1/5\n",
      "60000/60000 [==============================] - 5s 77us/sample - loss: 0.5109 - acc: 0.8206 - val_loss: 0.4355 - val_acc: 0.8479\n",
      "Epoch 2/5\n",
      "60000/60000 [==============================] - 5s 78us/sample - loss: 0.3847 - acc: 0.8628 - val_loss: 0.3932 - val_acc: 0.8585\n",
      "Epoch 3/5\n",
      "60000/60000 [==============================] - 4s 68us/sample - loss: 0.3506 - acc: 0.8730 - val_loss: 0.3674 - val_acc: 0.8712\n",
      "Epoch 4/5\n",
      "60000/60000 [==============================] - 4s 69us/sample - loss: 0.3271 - acc: 0.8805 - val_loss: 0.3827 - val_acc: 0.8594\n",
      "Epoch 5/5\n",
      "60000/60000 [==============================] - 4s 62us/sample - loss: 0.3118 - acc: 0.8851 - val_loss: 0.3712 - val_acc: 0.8661\n",
      "wandb: Agent Finished Run: fbqtqcjg \n",
      "\n",
      "wandb: Agent Starting Run: f43lseac with config:\n",
      "\thidden_nodes: 96\n",
      "wandb: Agent Started Run: f43lseac\n"
     ]
    },
    {
     "data": {
      "text/html": [
       "\n",
       "            Notebook configured with <a href=\"https://wandb.com\" target=\"_blank\">W&B</a>. You can <a href=\"https://app.wandb.ai/qualcomm/sweeps-sep26/runs/f43lseac\" target=\"_blank\">open</a> the run page, or call <code>%%wandb</code>\n",
       "            in a cell containing your training loop to display live results.  Learn more in our <a href=\"https://docs.wandb.com/docs/integrations/jupyter.html\" target=\"_blank\">docs</a>.\n",
       "        "
      ],
      "text/plain": [
       "<IPython.core.display.HTML object>"
      ]
     },
     "metadata": {},
     "output_type": "display_data"
    },
    {
     "name": "stderr",
     "output_type": "stream",
     "text": [
      "wandb: Wandb version 0.8.12 is available!  To upgrade, please run:\n",
      "wandb:  $ pip install wandb --upgrade\n"
     ]
    },
    {
     "name": "stdout",
     "output_type": "stream",
     "text": [
      "WARNING:tensorflow:From /Users/vanpelt/.pyenv/versions/3.6.4/envs/wubhub-3.6/lib/python3.6/site-packages/tensorflow/python/ops/resource_variable_ops.py:435: colocate_with (from tensorflow.python.framework.ops) is deprecated and will be removed in a future version.\n",
      "Instructions for updating:\n",
      "Colocations handled automatically by placer.\n",
      "Train on 60000 samples, validate on 10000 samples\n",
      "Epoch 1/5\n",
      "60000/60000 [==============================] - 8s 126us/sample - loss: 0.5108 - acc: 0.8222 - val_loss: 0.4422 - val_acc: 0.8454\n",
      "Epoch 2/5\n",
      "60000/60000 [==============================] - 5s 83us/sample - loss: 0.3867 - acc: 0.8618 - val_loss: 0.3967 - val_acc: 0.8570\n",
      "Epoch 3/5\n",
      "60000/60000 [==============================] - 5s 78us/sample - loss: 0.3471 - acc: 0.8744 - val_loss: 0.3663 - val_acc: 0.8720\n",
      "Epoch 4/5\n",
      "60000/60000 [==============================] - 6s 101us/sample - loss: 0.3221 - acc: 0.8828 - val_loss: 0.3782 - val_acc: 0.8622\n",
      "Epoch 5/5\n",
      "60000/60000 [==============================] - 6s 94us/sample - loss: 0.3053 - acc: 0.8883 - val_loss: 0.3698 - val_acc: 0.8708\n",
      "wandb: Agent Finished Run: f43lseac \n",
      "\n",
      "wandb: Agent Starting Run: 0pbu7it9 with config:\n",
      "\thidden_nodes: 128\n",
      "wandb: Agent Started Run: 0pbu7it9\n"
     ]
    },
    {
     "data": {
      "text/html": [
       "\n",
       "            Notebook configured with <a href=\"https://wandb.com\" target=\"_blank\">W&B</a>. You can <a href=\"https://app.wandb.ai/qualcomm/sweeps-sep26/runs/0pbu7it9\" target=\"_blank\">open</a> the run page, or call <code>%%wandb</code>\n",
       "            in a cell containing your training loop to display live results.  Learn more in our <a href=\"https://docs.wandb.com/docs/integrations/jupyter.html\" target=\"_blank\">docs</a>.\n",
       "        "
      ],
      "text/plain": [
       "<IPython.core.display.HTML object>"
      ]
     },
     "metadata": {},
     "output_type": "display_data"
    },
    {
     "name": "stderr",
     "output_type": "stream",
     "text": [
      "wandb: Wandb version 0.8.12 is available!  To upgrade, please run:\n",
      "wandb:  $ pip install wandb --upgrade\n"
     ]
    },
    {
     "name": "stdout",
     "output_type": "stream",
     "text": [
      "WARNING:tensorflow:From /Users/vanpelt/.pyenv/versions/3.6.4/envs/wubhub-3.6/lib/python3.6/site-packages/tensorflow/python/ops/resource_variable_ops.py:435: colocate_with (from tensorflow.python.framework.ops) is deprecated and will be removed in a future version.\n",
      "Instructions for updating:\n",
      "Colocations handled automatically by placer.\n",
      "Train on 60000 samples, validate on 10000 samples\n",
      "Epoch 1/5\n",
      "60000/60000 [==============================] - 5s 91us/sample - loss: 0.4961 - acc: 0.8258 - val_loss: 0.4358 - val_acc: 0.8473\n",
      "Epoch 2/5\n",
      "60000/60000 [==============================] - 6s 97us/sample - loss: 0.3755 - acc: 0.8635 - val_loss: 0.3781 - val_acc: 0.8672\n",
      "Epoch 3/5\n",
      "60000/60000 [==============================] - 5s 85us/sample - loss: 0.3378 - acc: 0.8779 - val_loss: 0.3547 - val_acc: 0.8727\n",
      "Epoch 4/5\n",
      "60000/60000 [==============================] - 6s 105us/sample - loss: 0.3122 - acc: 0.8860 - val_loss: 0.3666 - val_acc: 0.8681\n",
      "Epoch 5/5\n",
      "60000/60000 [==============================] - 8s 138us/sample - loss: 0.2961 - acc: 0.8912 - val_loss: 0.3535 - val_acc: 0.8758\n",
      "wandb: Agent Finished Run: 0pbu7it9 \n",
      "\n",
      "wandb: Agent Starting Run: 6qd8unyx with config:\n",
      "\thidden_nodes: 256\n",
      "wandb: Agent Started Run: 6qd8unyx\n"
     ]
    },
    {
     "data": {
      "text/html": [
       "\n",
       "            Notebook configured with <a href=\"https://wandb.com\" target=\"_blank\">W&B</a>. You can <a href=\"https://app.wandb.ai/qualcomm/sweeps-sep26/runs/6qd8unyx\" target=\"_blank\">open</a> the run page, or call <code>%%wandb</code>\n",
       "            in a cell containing your training loop to display live results.  Learn more in our <a href=\"https://docs.wandb.com/docs/integrations/jupyter.html\" target=\"_blank\">docs</a>.\n",
       "        "
      ],
      "text/plain": [
       "<IPython.core.display.HTML object>"
      ]
     },
     "metadata": {},
     "output_type": "display_data"
    },
    {
     "name": "stderr",
     "output_type": "stream",
     "text": [
      "wandb: Wandb version 0.8.12 is available!  To upgrade, please run:\n",
      "wandb:  $ pip install wandb --upgrade\n"
     ]
    },
    {
     "name": "stdout",
     "output_type": "stream",
     "text": [
      "WARNING:tensorflow:From /Users/vanpelt/.pyenv/versions/3.6.4/envs/wubhub-3.6/lib/python3.6/site-packages/tensorflow/python/ops/resource_variable_ops.py:435: colocate_with (from tensorflow.python.framework.ops) is deprecated and will be removed in a future version.\n",
      "Instructions for updating:\n",
      "Colocations handled automatically by placer.\n",
      "Train on 60000 samples, validate on 10000 samples\n",
      "Epoch 1/5\n",
      "60000/60000 [==============================] - 8s 136us/sample - loss: 0.4784 - acc: 0.8299 - val_loss: 0.4194 - val_acc: 0.8529\n",
      "Epoch 2/5\n",
      "60000/60000 [==============================] - 8s 139us/sample - loss: 0.3632 - acc: 0.8685 - val_loss: 0.3710 - val_acc: 0.8678\n",
      "Epoch 3/5\n",
      "60000/60000 [==============================] - 9s 143us/sample - loss: 0.3262 - acc: 0.8805 - val_loss: 0.3494 - val_acc: 0.8762\n",
      "Epoch 4/5\n",
      "60000/60000 [==============================] - 9s 148us/sample - loss: 0.3015 - acc: 0.8885 - val_loss: 0.3643 - val_acc: 0.8700\n",
      "Epoch 5/5\n",
      "60000/60000 [==============================] - 9s 155us/sample - loss: 0.2849 - acc: 0.8944 - val_loss: 0.3402 - val_acc: 0.8741\n",
      "wandb: Agent Finished Run: 6qd8unyx \n",
      "\n"
     ]
    }
   ],
   "source": [
    "wandb.agent(sweep_id, function=train)"
   ]
  },
  {
   "cell_type": "code",
   "execution_count": null,
   "metadata": {},
   "outputs": [],
   "source": []
  }
 ],
 "metadata": {
  "kernelspec": {
   "display_name": "Python 3",
   "language": "python",
   "name": "python3"
  },
  "language_info": {
   "codemirror_mode": {
    "name": "ipython",
    "version": 3
   },
   "file_extension": ".py",
   "mimetype": "text/x-python",
   "name": "python",
   "nbconvert_exporter": "python",
   "pygments_lexer": "ipython3",
   "version": "3.6.4"
  }
 },
 "nbformat": 4,
 "nbformat_minor": 4
}
